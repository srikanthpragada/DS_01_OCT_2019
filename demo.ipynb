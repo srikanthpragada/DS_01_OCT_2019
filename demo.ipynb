{
 "cells": [
  {
   "cell_type": "markdown",
   "metadata": {},
   "source": [
    "# Demo Notebook"
   ]
  },
  {
   "cell_type": "code",
   "execution_count": 2,
   "metadata": {},
   "outputs": [],
   "source": [
    "import datetime"
   ]
  },
  {
   "cell_type": "code",
   "execution_count": 27,
   "metadata": {},
   "outputs": [],
   "source": [
    "now = datetime.datetime.now()"
   ]
  },
  {
   "cell_type": "code",
   "execution_count": 25,
   "metadata": {},
   "outputs": [
    {
     "name": "stdout",
     "output_type": "stream",
     "text": [
      "2019-10-04 07:16:33.645911\n"
     ]
    }
   ],
   "source": [
    "print(datetime.datetime.now())"
   ]
  },
  {
   "cell_type": "markdown",
   "metadata": {},
   "source": [
    "### Get data from internet \n",
    "Get details from  <a href=\"http://www.abc.com\">www.abc.com </a>\n",
    "<p></p>\n",
    "Get all details from  <a href=\"http://www.srikanthtechnologies.com\">my website</a>"
   ]
  },
  {
   "cell_type": "markdown",
   "metadata": {},
   "source": [
    "## Markdown demo\n",
    "**this is important**\n",
    "*italic mode*"
   ]
  },
  {
   "cell_type": "markdown",
   "metadata": {},
   "source": [
    "## Topics \n",
    "* Notebook\n",
    "* Stats\n",
    "* Numpy"
   ]
  },
  {
   "cell_type": "markdown",
   "metadata": {},
   "source": [
    "<div class=\"alert alert-block alert-warning\">This is warning</div>\n",
    "<div class=\"alert alert-block alert-danger\">This is danger</div>"
   ]
  },
  {
   "cell_type": "code",
   "execution_count": 30,
   "metadata": {},
   "outputs": [
    {
     "data": {
      "text/plain": [
       "\u001b[1;31mInit signature:\u001b[0m \u001b[0mdatetime\u001b[0m\u001b[1;33m.\u001b[0m\u001b[0mdatetime\u001b[0m\u001b[1;33m(\u001b[0m\u001b[0mself\u001b[0m\u001b[1;33m,\u001b[0m \u001b[1;33m/\u001b[0m\u001b[1;33m,\u001b[0m \u001b[1;33m*\u001b[0m\u001b[0margs\u001b[0m\u001b[1;33m,\u001b[0m \u001b[1;33m**\u001b[0m\u001b[0mkwargs\u001b[0m\u001b[1;33m)\u001b[0m\u001b[1;33m\u001b[0m\u001b[1;33m\u001b[0m\u001b[0m\n",
       "\u001b[1;31mDocstring:\u001b[0m     \n",
       "datetime(year, month, day[, hour[, minute[, second[, microsecond[,tzinfo]]]]])\n",
       "\n",
       "The year, month and day arguments are required. tzinfo may be None, or an\n",
       "instance of a tzinfo subclass. The remaining arguments may be ints.\n",
       "\u001b[1;31mFile:\u001b[0m           e:\\anaconda3\\lib\\datetime.py\n",
       "\u001b[1;31mType:\u001b[0m           type\n",
       "\u001b[1;31mSubclasses:\u001b[0m     \n"
      ]
     },
     "metadata": {},
     "output_type": "display_data"
    }
   ],
   "source": [
    "datetime.datetime?"
   ]
  },
  {
   "cell_type": "code",
   "execution_count": 28,
   "metadata": {},
   "outputs": [
    {
     "data": {
      "text/html": [
       "<img src=\"http://www.srikanthtechnologies.com/logo.jpg\"/>"
      ],
      "text/plain": [
       "<IPython.core.display.Image object>"
      ]
     },
     "execution_count": 28,
     "metadata": {},
     "output_type": "execute_result"
    }
   ],
   "source": [
    "from IPython.display import Image\n",
    "Image(url =\"http://www.srikanthtechnologies.com/logo.jpg\")"
   ]
  },
  {
   "cell_type": "markdown",
   "metadata": {},
   "source": [
    "### Magic functions"
   ]
  },
  {
   "cell_type": "code",
   "execution_count": 1,
   "metadata": {},
   "outputs": [
    {
     "data": {
      "text/plain": [
       "'E:\\\\classroom\\\\ds\\\\oct1'"
      ]
     },
     "execution_count": 1,
     "metadata": {},
     "output_type": "execute_result"
    }
   ],
   "source": [
    "%pwd"
   ]
  },
  {
   "cell_type": "code",
   "execution_count": 2,
   "metadata": {},
   "outputs": [
    {
     "data": {
      "application/json": {
       "cell": {
        "!": "OSMagics",
        "HTML": "Other",
        "SVG": "Other",
        "bash": "Other",
        "capture": "ExecutionMagics",
        "cmd": "Other",
        "debug": "ExecutionMagics",
        "file": "Other",
        "html": "DisplayMagics",
        "javascript": "DisplayMagics",
        "js": "DisplayMagics",
        "latex": "DisplayMagics",
        "markdown": "DisplayMagics",
        "perl": "Other",
        "prun": "ExecutionMagics",
        "pypy": "Other",
        "python": "Other",
        "python2": "Other",
        "python3": "Other",
        "ruby": "Other",
        "script": "ScriptMagics",
        "sh": "Other",
        "svg": "DisplayMagics",
        "sx": "OSMagics",
        "system": "OSMagics",
        "time": "ExecutionMagics",
        "timeit": "ExecutionMagics",
        "writefile": "OSMagics"
       },
       "line": {
        "alias": "OSMagics",
        "alias_magic": "BasicMagics",
        "autoawait": "AsyncMagics",
        "autocall": "AutoMagics",
        "automagic": "AutoMagics",
        "autosave": "KernelMagics",
        "bookmark": "OSMagics",
        "cd": "OSMagics",
        "clear": "KernelMagics",
        "cls": "KernelMagics",
        "colors": "BasicMagics",
        "conda": "PackagingMagics",
        "config": "ConfigMagics",
        "connect_info": "KernelMagics",
        "copy": "Other",
        "ddir": "Other",
        "debug": "ExecutionMagics",
        "dhist": "OSMagics",
        "dirs": "OSMagics",
        "doctest_mode": "BasicMagics",
        "echo": "Other",
        "ed": "Other",
        "edit": "KernelMagics",
        "env": "OSMagics",
        "gui": "BasicMagics",
        "hist": "Other",
        "history": "HistoryMagics",
        "killbgscripts": "ScriptMagics",
        "ldir": "Other",
        "less": "KernelMagics",
        "load": "CodeMagics",
        "load_ext": "ExtensionMagics",
        "loadpy": "CodeMagics",
        "logoff": "LoggingMagics",
        "logon": "LoggingMagics",
        "logstart": "LoggingMagics",
        "logstate": "LoggingMagics",
        "logstop": "LoggingMagics",
        "ls": "Other",
        "lsmagic": "BasicMagics",
        "macro": "ExecutionMagics",
        "magic": "BasicMagics",
        "matplotlib": "PylabMagics",
        "mkdir": "Other",
        "more": "KernelMagics",
        "notebook": "BasicMagics",
        "page": "BasicMagics",
        "pastebin": "CodeMagics",
        "pdb": "ExecutionMagics",
        "pdef": "NamespaceMagics",
        "pdoc": "NamespaceMagics",
        "pfile": "NamespaceMagics",
        "pinfo": "NamespaceMagics",
        "pinfo2": "NamespaceMagics",
        "pip": "PackagingMagics",
        "popd": "OSMagics",
        "pprint": "BasicMagics",
        "precision": "BasicMagics",
        "prun": "ExecutionMagics",
        "psearch": "NamespaceMagics",
        "psource": "NamespaceMagics",
        "pushd": "OSMagics",
        "pwd": "OSMagics",
        "pycat": "OSMagics",
        "pylab": "PylabMagics",
        "qtconsole": "KernelMagics",
        "quickref": "BasicMagics",
        "recall": "HistoryMagics",
        "rehashx": "OSMagics",
        "reload_ext": "ExtensionMagics",
        "ren": "Other",
        "rep": "Other",
        "rerun": "HistoryMagics",
        "reset": "NamespaceMagics",
        "reset_selective": "NamespaceMagics",
        "rmdir": "Other",
        "run": "ExecutionMagics",
        "save": "CodeMagics",
        "sc": "OSMagics",
        "set_env": "OSMagics",
        "store": "StoreMagics",
        "sx": "OSMagics",
        "system": "OSMagics",
        "tb": "ExecutionMagics",
        "time": "ExecutionMagics",
        "timeit": "ExecutionMagics",
        "unalias": "OSMagics",
        "unload_ext": "ExtensionMagics",
        "who": "NamespaceMagics",
        "who_ls": "NamespaceMagics",
        "whos": "NamespaceMagics",
        "xdel": "NamespaceMagics",
        "xmode": "BasicMagics"
       }
      },
      "text/plain": [
       "Available line magics:\n",
       "%alias  %alias_magic  %autoawait  %autocall  %automagic  %autosave  %bookmark  %cd  %clear  %cls  %colors  %conda  %config  %connect_info  %copy  %ddir  %debug  %dhist  %dirs  %doctest_mode  %echo  %ed  %edit  %env  %gui  %hist  %history  %killbgscripts  %ldir  %less  %load  %load_ext  %loadpy  %logoff  %logon  %logstart  %logstate  %logstop  %ls  %lsmagic  %macro  %magic  %matplotlib  %mkdir  %more  %notebook  %page  %pastebin  %pdb  %pdef  %pdoc  %pfile  %pinfo  %pinfo2  %pip  %popd  %pprint  %precision  %prun  %psearch  %psource  %pushd  %pwd  %pycat  %pylab  %qtconsole  %quickref  %recall  %rehashx  %reload_ext  %ren  %rep  %rerun  %reset  %reset_selective  %rmdir  %run  %save  %sc  %set_env  %store  %sx  %system  %tb  %time  %timeit  %unalias  %unload_ext  %who  %who_ls  %whos  %xdel  %xmode\n",
       "\n",
       "Available cell magics:\n",
       "%%!  %%HTML  %%SVG  %%bash  %%capture  %%cmd  %%debug  %%file  %%html  %%javascript  %%js  %%latex  %%markdown  %%perl  %%prun  %%pypy  %%python  %%python2  %%python3  %%ruby  %%script  %%sh  %%svg  %%sx  %%system  %%time  %%timeit  %%writefile\n",
       "\n",
       "Automagic is ON, % prefix IS NOT needed for line magics."
      ]
     },
     "execution_count": 2,
     "metadata": {},
     "output_type": "execute_result"
    }
   ],
   "source": [
    "%lsmagic"
   ]
  },
  {
   "cell_type": "code",
   "execution_count": 7,
   "metadata": {},
   "outputs": [],
   "source": [
    "lines = %system dir"
   ]
  },
  {
   "cell_type": "code",
   "execution_count": 8,
   "metadata": {},
   "outputs": [
    {
     "data": {
      "text/plain": [
       "IPython.utils.text.SList"
      ]
     },
     "execution_count": 8,
     "metadata": {},
     "output_type": "execute_result"
    }
   ],
   "source": [
    "type(lines)"
   ]
  },
  {
   "cell_type": "code",
   "execution_count": 9,
   "metadata": {},
   "outputs": [
    {
     "name": "stdout",
     "output_type": "stream",
     "text": [
      " Volume in drive E is Courses\n",
      " Volume Serial Number is BEEE-4DA8\n",
      "\n",
      " Directory of E:\\classroom\\ds\\oct1\n",
      "\n"
     ]
    }
   ],
   "source": [
    "for line in lines[:5]:\n",
    "    print(line)"
   ]
  },
  {
   "cell_type": "code",
   "execution_count": 15,
   "metadata": {},
   "outputs": [],
   "source": [
    "names = %system type e:\\classroom\\names.txt"
   ]
  },
  {
   "cell_type": "code",
   "execution_count": 16,
   "metadata": {},
   "outputs": [
    {
     "data": {
      "text/plain": [
       "['First', 'Second', 'Third']"
      ]
     },
     "execution_count": 16,
     "metadata": {},
     "output_type": "execute_result"
    }
   ],
   "source": [
    "names"
   ]
  },
  {
   "cell_type": "code",
   "execution_count": 17,
   "metadata": {},
   "outputs": [
    {
     "name": "stdout",
     "output_type": "stream",
     "text": [
      "cmds\t line\t lines\t names\t \n"
     ]
    }
   ],
   "source": [
    "%who"
   ]
  },
  {
   "cell_type": "code",
   "execution_count": 18,
   "metadata": {},
   "outputs": [
    {
     "name": "stdout",
     "output_type": "stream",
     "text": [
      "%pwd\n",
      "%lsmagic\n",
      "%system dir\n",
      "cmds = %system dir\n",
      "cmds\n",
      "type(cmds)\n",
      "lines = %system dir\n",
      "type(lines)\n",
      "for line in lines[:5]:\n",
      "    print(line)\n",
      "%system type 'e:\\classroom\\names.txt'\n",
      "%system type r'e:\\classroom\\names.txt'\n",
      "%system dir r'e:\\classroom\\names.txt'\n",
      "%system dir e:\\classroom\\names.txt\n",
      "%system type e:\\classroom\\names.txt\n",
      "names = %system type e:\\classroom\\names.txt\n",
      "names\n",
      "%who\n",
      "%history\n"
     ]
    }
   ],
   "source": [
    "%history"
   ]
  },
  {
   "cell_type": "code",
   "execution_count": 20,
   "metadata": {},
   "outputs": [
    {
     "name": "stdout",
     "output_type": "stream",
     "text": [
      "The following commands were written to file `cmd.py`:\n",
      "get_ipython().run_line_magic('pwd', '')\n",
      "get_ipython().run_line_magic('lsmagic', '')\n",
      "get_ipython().run_line_magic('system', 'dir')\n",
      "cmds = get_ipython().run_line_magic('system', 'dir')\n",
      "cmds\n",
      "type(cmds)\n",
      "lines = get_ipython().run_line_magic('system', 'dir')\n",
      "type(lines)\n",
      "for line in lines[:5]:\n",
      "    print(line)\n",
      "get_ipython().run_line_magic('system', \"type 'e:\\\\classroom\\\\names.txt'\")\n"
     ]
    }
   ],
   "source": [
    "%save cmd.py 1-10"
   ]
  },
  {
   "cell_type": "code",
   "execution_count": 23,
   "metadata": {},
   "outputs": [
    {
     "data": {
      "application/javascript": [
       "var resp = confirm(\"Do you want to do it?\") \n",
       "if (resp)\n",
       "   alert(\"Yes\")\n",
       "else\n",
       "   alert(\"Okay\")\n"
      ],
      "text/plain": [
       "<IPython.core.display.Javascript object>"
      ]
     },
     "metadata": {},
     "output_type": "display_data"
    }
   ],
   "source": [
    "%%js\n",
    "var resp = confirm(\"Do you want to do it?\") \n",
    "if (resp)\n",
    "   alert(\"Yes\")\n",
    "else\n",
    "   alert(\"Okay\")"
   ]
  },
  {
   "cell_type": "code",
   "execution_count": 24,
   "metadata": {},
   "outputs": [
    {
     "data": {
      "text/html": [
       "<h1>HTML</h1>\n",
       "<a href=\"google.com\">Search here</a>\n"
      ],
      "text/plain": [
       "<IPython.core.display.HTML object>"
      ]
     },
     "metadata": {},
     "output_type": "display_data"
    }
   ],
   "source": [
    "%%html\n",
    "<h1>HTML</h1>\n",
    "<a href=\"google.com\">Search here</a>"
   ]
  },
  {
   "cell_type": "code",
   "execution_count": 25,
   "metadata": {},
   "outputs": [],
   "source": [
    "%%capture mynumbers\n",
    "for i in range(1,11):\n",
    "    print(i)"
   ]
  },
  {
   "cell_type": "code",
   "execution_count": 26,
   "metadata": {},
   "outputs": [
    {
     "data": {
      "text/plain": [
       "IPython.utils.capture.CapturedIO"
      ]
     },
     "execution_count": 26,
     "metadata": {},
     "output_type": "execute_result"
    }
   ],
   "source": [
    "type(mynumbers)"
   ]
  },
  {
   "cell_type": "code",
   "execution_count": 28,
   "metadata": {},
   "outputs": [
    {
     "data": {
      "text/plain": [
       "['1', '2', '3', '4', '5', '6', '7', '8', '9', '10', '']"
      ]
     },
     "execution_count": 28,
     "metadata": {},
     "output_type": "execute_result"
    }
   ],
   "source": [
    "mynumbers.stdout.split('\\n')"
   ]
  },
  {
   "cell_type": "code",
   "execution_count": 29,
   "metadata": {},
   "outputs": [
    {
     "name": "stdout",
     "output_type": "stream",
     "text": [
      " Volume in drive E is Courses\n",
      " Volume Serial Number is BEEE-4DA8\n",
      "\n",
      " Directory of E:\\classroom\\ds\\oct1\n",
      "\n",
      "05-10-2019  07:21               406 cmd.py\n",
      "               1 File(s)            406 bytes\n",
      "               0 Dir(s)  126,681,108,480 bytes free\n"
     ]
    }
   ],
   "source": [
    "!dir *.py"
   ]
  },
  {
   "cell_type": "code",
   "execution_count": 30,
   "metadata": {},
   "outputs": [
    {
     "name": "stdout",
     "output_type": "stream",
     "text": [
      " Volume in drive E is Courses\n",
      " Volume Serial Number is BEEE-4DA8\n",
      "\n",
      " Directory of E:\\classroom\\ds\\oct1\n",
      "\n",
      "05-10-2019  07:21               406 cmd.py\n",
      "               1 File(s)            406 bytes\n",
      "               0 Dir(s)  126,681,108,480 bytes free\n"
     ]
    }
   ],
   "source": [
    "ext = '*.py'\n",
    "!dir {ext}"
   ]
  },
  {
   "cell_type": "code",
   "execution_count": 32,
   "metadata": {},
   "outputs": [
    {
     "data": {
      "text/plain": [
       "['',\n",
       " \"get_ipython().run_line_magic('pwd', '')\",\n",
       " \"get_ipython().run_line_magic('lsmagic', '')\",\n",
       " \"get_ipython().run_line_magic('system', 'dir')\",\n",
       " \"cmds = get_ipython().run_line_magic('system', 'dir')\",\n",
       " 'cmds',\n",
       " 'type(cmds)',\n",
       " \"lines = get_ipython().run_line_magic('system', 'dir')\",\n",
       " 'type(lines)',\n",
       " 'for line in lines[:5]:\\n    print(line)',\n",
       " 'get_ipython().run_line_magic(\\'system\\', \"type \\'e:\\\\\\\\classroom\\\\\\\\names.txt\\'\")',\n",
       " 'get_ipython().run_line_magic(\\'system\\', \"type r\\'e:\\\\\\\\classroom\\\\\\\\names.txt\\'\")',\n",
       " 'get_ipython().run_line_magic(\\'system\\', \"dir r\\'e:\\\\\\\\classroom\\\\\\\\names.txt\\'\")',\n",
       " \"get_ipython().run_line_magic('system', 'dir e:\\\\\\\\classroom\\\\\\\\names.txt')\",\n",
       " \"get_ipython().run_line_magic('system', 'type e:\\\\\\\\classroom\\\\\\\\names.txt')\",\n",
       " \"names = get_ipython().run_line_magic('system', 'type e:\\\\\\\\classroom\\\\\\\\names.txt')\",\n",
       " 'names',\n",
       " \"get_ipython().run_line_magic('who', '')\",\n",
       " \"get_ipython().run_line_magic('history', '')\",\n",
       " \"get_ipython().run_line_magic('save', 'cmd.py')\",\n",
       " \"get_ipython().run_line_magic('save', 'cmd.py 1-10')\",\n",
       " 'get_ipython().run_cell_magic(\\'js\\', \\'\\', \\'alert(\"Hello\")\\\\n\\')',\n",
       " 'get_ipython().run_cell_magic(\\'js\\', \\'\\', \\'resp = confirm(\"Do you want to do it?\")\\\\nif (resp)\\\\n   alert(\"Yes\")\\\\nelse\\\\n   alert(\"Okay\")\\\\n\\')',\n",
       " 'get_ipython().run_cell_magic(\\'js\\', \\'\\', \\'var resp = confirm(\"Do you want to do it?\") \\\\nif (resp)\\\\n   alert(\"Yes\")\\\\nelse\\\\n   alert(\"Okay\")\\\\n\\')',\n",
       " 'get_ipython().run_cell_magic(\\'html\\', \\'\\', \\'<h1>HTML</h1>\\\\n<a href=\"google.com\">Search here</a>\\\\n\\')',\n",
       " \"get_ipython().run_cell_magic('capture', 'mynumbers', 'for i in range(1,11):\\\\n    print(i)\\\\n')\",\n",
       " 'type(mynumbers)',\n",
       " 'mynumbers.stdout',\n",
       " \"mynumbers.stdout.split('\\\\n')\",\n",
       " \"get_ipython().system('dir *.py')\",\n",
       " \"ext = '*.py'\\nget_ipython().system('dir {ext}')\",\n",
       " 'in',\n",
       " 'In']"
      ]
     },
     "execution_count": 32,
     "metadata": {},
     "output_type": "execute_result"
    }
   ],
   "source": [
    "In"
   ]
  },
  {
   "cell_type": "code",
   "execution_count": 42,
   "metadata": {
    "collapsed": true,
    "jupyter": {
     "outputs_hidden": true
    }
   },
   "outputs": [
    {
     "name": "stdout",
     "output_type": "stream",
     "text": [
      "['1', '2', '3', '4', '5', '6', '7', '8', '9', '10', '']\n",
      "['', \"get_ipython().run_line_magic('pwd', '')\", \"get_ipython().run_line_magic('lsmagic', '')\", \"get_ipython().run_line_magic('system', 'dir')\", \"cmds = get_ipython().run_line_magic('system', 'dir')\", 'cmds', 'type(cmds)', \"lines = get_ipython().run_line_magic('system', 'dir')\", 'type(lines)', 'for line in lines[:5]:\\n    print(line)', 'get_ipython().run_line_magic(\\'system\\', \"type \\'e:\\\\\\\\classroom\\\\\\\\names.txt\\'\")', 'get_ipython().run_line_magic(\\'system\\', \"type r\\'e:\\\\\\\\classroom\\\\\\\\names.txt\\'\")', 'get_ipython().run_line_magic(\\'system\\', \"dir r\\'e:\\\\\\\\classroom\\\\\\\\names.txt\\'\")', \"get_ipython().run_line_magic('system', 'dir e:\\\\\\\\classroom\\\\\\\\names.txt')\", \"get_ipython().run_line_magic('system', 'type e:\\\\\\\\classroom\\\\\\\\names.txt')\", \"names = get_ipython().run_line_magic('system', 'type e:\\\\\\\\classroom\\\\\\\\names.txt')\", 'names', \"get_ipython().run_line_magic('who', '')\", \"get_ipython().run_line_magic('history', '')\", \"get_ipython().run_line_magic('save', 'cmd.py')\", \"get_ipython().run_line_magic('save', 'cmd.py 1-10')\", 'get_ipython().run_cell_magic(\\'js\\', \\'\\', \\'alert(\"Hello\")\\\\n\\')', 'get_ipython().run_cell_magic(\\'js\\', \\'\\', \\'resp = confirm(\"Do you want to do it?\")\\\\nif (resp)\\\\n   alert(\"Yes\")\\\\nelse\\\\n   alert(\"Okay\")\\\\n\\')', 'get_ipython().run_cell_magic(\\'js\\', \\'\\', \\'var resp = confirm(\"Do you want to do it?\") \\\\nif (resp)\\\\n   alert(\"Yes\")\\\\nelse\\\\n   alert(\"Okay\")\\\\n\\')', 'get_ipython().run_cell_magic(\\'html\\', \\'\\', \\'<h1>HTML</h1>\\\\n<a href=\"google.com\">Search here</a>\\\\n\\')', \"get_ipython().run_cell_magic('capture', 'mynumbers', 'for i in range(1,11):\\\\n    print(i)\\\\n')\", 'type(mynumbers)', 'mynumbers.stdout', \"mynumbers.stdout.split('\\\\n')\", \"get_ipython().system('dir *.py')\", \"ext = '*.py'\\nget_ipython().system('dir {ext}')\", 'in', 'In', 'Out', 'Out[-3:]', 'type(Out)', 'Out', 'for k in Out.keys()\\n  print(k)', 'for k in Out.keys():\\n  print(k)', 'for k in Out.keys()[-3:]:\\n  print(k)', 'for k in list(Out.keys())[-3:]:\\n  print(k)', 'for k in list(Out.keys())[-3:]:\\n  print( Out[k])', '# Last three outputs \\nfor k in list(Out.keys())[-3:]:\\n  print( Out[k])']\n",
      "<class 'dict'>\n"
     ]
    }
   ],
   "source": [
    "# Last three outputs \n",
    "for k in list(Out.keys())[-3:]:\n",
    "  print( Out[k])"
   ]
  },
  {
   "cell_type": "code",
   "execution_count": 43,
   "metadata": {},
   "outputs": [
    {
     "data": {
      "text/plain": [
       "['',\n",
       " \"get_ipython().run_line_magic('pwd', '')\",\n",
       " \"get_ipython().run_line_magic('lsmagic', '')\",\n",
       " \"get_ipython().run_line_magic('system', 'dir')\",\n",
       " \"cmds = get_ipython().run_line_magic('system', 'dir')\",\n",
       " 'cmds',\n",
       " 'type(cmds)',\n",
       " \"lines = get_ipython().run_line_magic('system', 'dir')\",\n",
       " 'type(lines)',\n",
       " 'for line in lines[:5]:\\n    print(line)']"
      ]
     },
     "execution_count": 43,
     "metadata": {},
     "output_type": "execute_result"
    }
   ],
   "source": [
    "In[:10]"
   ]
  },
  {
   "cell_type": "code",
   "execution_count": 47,
   "metadata": {},
   "outputs": [
    {
     "name": "stdin",
     "output_type": "stream",
     "text": [
      "Enter a number : 255\n"
     ]
    },
    {
     "name": "stdout",
     "output_type": "stream",
     "text": [
      "3\n",
      "5\n",
      "15\n",
      "17\n",
      "51\n",
      "85\n"
     ]
    }
   ],
   "source": [
    "num = int(input(\"Enter a number :\"))\n",
    "for i in range(2,num//2 + 1):\n",
    "    if num % i == 0:\n",
    "         print(i)"
   ]
  },
  {
   "cell_type": "code",
   "execution_count": 45,
   "metadata": {},
   "outputs": [
    {
     "data": {
      "text/plain": [
       "'Srikanth'"
      ]
     },
     "execution_count": 45,
     "metadata": {},
     "output_type": "execute_result"
    }
   ],
   "source": [
    "name"
   ]
  },
  {
   "cell_type": "code",
   "execution_count": 48,
   "metadata": {},
   "outputs": [],
   "source": [
    "# using requests library \n",
    "import requests "
   ]
  },
  {
   "cell_type": "code",
   "execution_count": 49,
   "metadata": {},
   "outputs": [
    {
     "name": "stdout",
     "output_type": "stream",
     "text": [
      "200\n"
     ]
    }
   ],
   "source": [
    "resp = requests.get(\"http://www.srikanthtechnologies.com/rss.xml\")\n",
    "print(resp.status_code)"
   ]
  },
  {
   "cell_type": "code",
   "execution_count": null,
   "metadata": {},
   "outputs": [],
   "source": []
  }
 ],
 "metadata": {
  "kernelspec": {
   "display_name": "Python 3",
   "language": "python",
   "name": "python3"
  },
  "language_info": {
   "codemirror_mode": {
    "name": "ipython",
    "version": 3
   },
   "file_extension": ".py",
   "mimetype": "text/x-python",
   "name": "python",
   "nbconvert_exporter": "python",
   "pygments_lexer": "ipython3",
   "version": "3.7.3"
  }
 },
 "nbformat": 4,
 "nbformat_minor": 4
}
